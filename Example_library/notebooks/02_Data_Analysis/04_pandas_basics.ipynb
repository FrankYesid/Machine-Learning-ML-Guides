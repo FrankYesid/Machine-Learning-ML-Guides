{
 "cells": [
  {
   "cell_type": "markdown",
   "id": "72911599",
   "metadata": {},
   "source": [
    "# 🐼 Fundamentos de Pandas\n",
    "\n",
    "Este cuaderno cubre paso a paso los fundamentos de la biblioteca **Pandas** en Python, incluyendo ejemplos y ejercicios prácticos para manipular `Series` y `DataFrames`."
   ]
  },
  {
   "cell_type": "code",
   "execution_count": null,
   "id": "643dda72",
   "metadata": {},
   "outputs": [],
   "source": [
    "!pip install pandas"
   ]
  },
  {
   "cell_type": "code",
   "execution_count": null,
   "id": "aa322c7c",
   "metadata": {},
   "outputs": [],
   "source": [
    "import pandas as pd"
   ]
  },
  {
   "cell_type": "markdown",
   "id": "9f2a4585",
   "metadata": {},
   "source": [
    "## 📌 1. Series\n",
    "Una **Serie** es una estructura unidimensional, similar a una lista."
   ]
  },
  {
   "cell_type": "code",
   "execution_count": null,
   "id": "de83f1a1",
   "metadata": {},
   "outputs": [],
   "source": [
    "serie = pd.Series([10, 20, 30, 40], name='Ejemplo')\n",
    "print(serie)"
   ]
  },
  {
   "cell_type": "markdown",
   "id": "92158ae6",
   "metadata": {},
   "source": [
    "## 📌 2. DataFrame\n",
    "Un **DataFrame** es una estructura bidimensional con etiquetas."
   ]
  },
  {
   "cell_type": "code",
   "execution_count": null,
   "id": "9131dcc8",
   "metadata": {},
   "outputs": [],
   "source": [
    "datos = {\n",
    "    'Nombre': ['Ana', 'Luis', 'Carlos'],\n",
    "    'Edad': [23, 35, 29],\n",
    "    'Ciudad': ['Bogotá', 'Medellín', 'Cali']\n",
    "}\n",
    "df = pd.DataFrame(datos)\n",
    "df"
   ]
  },
  {
   "cell_type": "markdown",
   "id": "4f84779e",
   "metadata": {},
   "source": [
    "## 📌 3. Lectura de archivos"
   ]
  },
  {
   "cell_type": "code",
   "execution_count": null,
   "id": "bf248e6b",
   "metadata": {},
   "outputs": [],
   "source": [
    "# df = pd.read_csv('archivo.csv')\n",
    "# df = pd.read_excel('archivo.xlsx')"
   ]
  },
  {
   "cell_type": "markdown",
   "id": "96e81099",
   "metadata": {},
   "source": [
    "## 📌 4. Exploración de datos"
   ]
  },
  {
   "cell_type": "code",
   "execution_count": null,
   "id": "50da49a6",
   "metadata": {},
   "outputs": [],
   "source": [
    "df.info()\n",
    "df.describe()\n",
    "df.columns\n",
    "df.shape"
   ]
  },
  {
   "cell_type": "markdown",
   "id": "7dbc5f88",
   "metadata": {},
   "source": [
    "## 📌 5. Selección y filtrado de datos"
   ]
  },
  {
   "cell_type": "code",
   "execution_count": null,
   "id": "57b9e34e",
   "metadata": {},
   "outputs": [],
   "source": [
    "df['Edad']  # Columna\n",
    "\n",
    "df.iloc[0]  # Por índice\n",
    "df.loc[0]   # Por etiqueta\n",
    "\n",
    "df[df['Edad'] > 30]  # Condición"
   ]
  },
  {
   "cell_type": "markdown",
   "id": "5829ea79",
   "metadata": {},
   "source": [
    "## 📌 6. Operaciones básicas"
   ]
  },
  {
   "cell_type": "code",
   "execution_count": null,
   "id": "3ad93951",
   "metadata": {},
   "outputs": [],
   "source": [
    "df['Edad'] + 5\n",
    "df['Edad'].mean()\n",
    "df['Edad'].max()"
   ]
  },
  {
   "cell_type": "markdown",
   "id": "c4a19482",
   "metadata": {},
   "source": [
    "## 📌 7. Limpieza de datos"
   ]
  },
  {
   "cell_type": "code",
   "execution_count": null,
   "id": "c42a6b77",
   "metadata": {},
   "outputs": [],
   "source": [
    "df.isnull().sum()\n",
    "df.dropna(inplace=True)\n",
    "df.fillna(0, inplace=True)"
   ]
  },
  {
   "cell_type": "markdown",
   "id": "0f53513d",
   "metadata": {},
   "source": [
    "## 📌 8. Agrupamiento y agregación"
   ]
  },
  {
   "cell_type": "code",
   "execution_count": null,
   "id": "383558d9",
   "metadata": {},
   "outputs": [],
   "source": [
    "# Ejemplo con nueva columna\n",
    "import numpy as np\n",
    "df['Ventas'] = [200, 150, 450]\n",
    "df.groupby('Ciudad')['Ventas'].sum()"
   ]
  },
  {
   "cell_type": "markdown",
   "id": "24608ca2",
   "metadata": {},
   "source": [
    "## 📌 9. Ordenar datos"
   ]
  },
  {
   "cell_type": "code",
   "execution_count": null,
   "id": "0628c694",
   "metadata": {},
   "outputs": [],
   "source": [
    "df.sort_values(by='Edad', ascending=False)"
   ]
  },
  {
   "cell_type": "markdown",
   "id": "47f00e31",
   "metadata": {},
   "source": [
    "## 📌 10. Exportar datos"
   ]
  },
  {
   "cell_type": "code",
   "execution_count": null,
   "id": "28405b07",
   "metadata": {},
   "outputs": [],
   "source": [
    "df.to_csv('datos_exportados.csv', index=False)\n",
    "df.to_excel('datos_exportados.xlsx', index=False)"
   ]
  },
  {
   "cell_type": "markdown",
   "id": "00b833ba",
   "metadata": {},
   "source": [
    "## 📌 11. Visualización rápida"
   ]
  },
  {
   "cell_type": "code",
   "execution_count": null,
   "id": "d51cf30f",
   "metadata": {},
   "outputs": [],
   "source": [
    "import matplotlib.pyplot as plt\n",
    "df['Edad'].plot(kind='hist', title='Histograma de Edades')\n",
    "plt.show()"
   ]
  },
  {
   "cell_type": "markdown",
   "id": "97373a34",
   "metadata": {},
   "source": [
    "## 🧠 Ejercicio Propuesto\n",
    "1. Crea un nuevo DataFrame con columnas: `Producto`, `Precio`, `Cantidad`.\n",
    "2. Calcula el total por producto (Precio * Cantidad).\n",
    "3. Muestra el producto más costoso y el más barato."
   ]
  },
  {
   "cell_type": "markdown",
   "id": "86ea2bd1",
   "metadata": {},
   "source": [
    "## ✅ Conclusión\n",
    "Pandas es una herramienta esencial para la manipulación de datos en Python. Permite cargar, explorar, transformar y exportar datos de manera eficiente."
   ]
  }
 ],
 "metadata": {},
 "nbformat": 4,
 "nbformat_minor": 5
}
