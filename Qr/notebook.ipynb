{
 "cells": [
  {
   "cell_type": "markdown",
   "metadata": {},
   "source": [
    "# Generación de un Código QR desde Python"
   ]
  },
  {
   "cell_type": "markdown",
   "metadata": {},
   "source": [
    "1. Instalación de la biblioteca necesaria\n",
    "Primero, instala la biblioteca qrcode. Ejecuta el siguiente comando en una celda de terminal o desde el entorno Jupyter:"
   ]
  },
  {
   "cell_type": "code",
   "execution_count": 4,
   "metadata": {},
   "outputs": [
    {
     "name": "stdout",
     "output_type": "stream",
     "text": [
      "Collecting qrcode[pil]\n",
      "  Downloading qrcode-8.2-py3-none-any.whl.metadata (17 kB)\n",
      "Requirement already satisfied: colorama in d:\\programs\\anaconda3\\envs\\venv\\lib\\site-packages (from qrcode[pil]) (0.4.6)\n",
      "Requirement already satisfied: pillow>=9.1.0 in d:\\programs\\anaconda3\\envs\\venv\\lib\\site-packages (from qrcode[pil]) (10.4.0)\n",
      "Downloading qrcode-8.2-py3-none-any.whl (45 kB)\n",
      "Installing collected packages: qrcode\n",
      "Successfully installed qrcode-8.2\n",
      "Note: you may need to restart the kernel to use updated packages.\n"
     ]
    }
   ],
   "source": [
    "%pip install qrcode[pil]"
   ]
  },
  {
   "cell_type": "markdown",
   "metadata": {},
   "source": [
    "2. Importación de bibliotecas\n",
    "En una nueva celda, importa las bibliotecas necesarias:"
   ]
  },
  {
   "cell_type": "code",
   "execution_count": 5,
   "metadata": {},
   "outputs": [],
   "source": [
    "import qrcode"
   ]
  },
  {
   "cell_type": "markdown",
   "metadata": {},
   "source": [
    "3. Definición del enlace\n",
    "Define el enlace que quieres codificar en el código QR:"
   ]
  },
  {
   "cell_type": "code",
   "execution_count": 6,
   "metadata": {},
   "outputs": [],
   "source": [
    "# Enlace que deseas convertir en un código QR\n",
    "# url = \"https://forms.gle/bVomSWgDmMBaEQ7D6\"\n",
    "# url = \"https://forms.gle/kGiKAnG4bcLLromz7\"\n",
    "# url = 'https://frankyesid.github.io/pagina-presentacion/'\n",
    "# url = 'https://www.popai.pro/share.html?shareKey=adb173c6b37f7178b179dae09b41e920876a98a0e9b05c44593b5674ebd2753d&utm_source=presentationsharepage&inviteCode=IN_6RqgIBjuPBV'\n",
    "url = 'https://forms.gle/6g7ShX44JxH8byB47'"
   ]
  },
  {
   "cell_type": "code",
   "execution_count": 7,
   "metadata": {},
   "outputs": [],
   "source": [
    "# url = \"https://open.spotify.com/playlist/76145mBbKUknWEOdNjnsvh?si=4338fd8090da480c\""
   ]
  },
  {
   "cell_type": "markdown",
   "metadata": {},
   "source": [
    "4. Configuración y generación del código QR\n",
    "Configura los detalles del código QR y genera la imagen:"
   ]
  },
  {
   "cell_type": "code",
   "execution_count": 8,
   "metadata": {},
   "outputs": [],
   "source": [
    "# Crear el objeto QR con configuraciones\n",
    "qr = qrcode.QRCode(\n",
    "    version=1,  # Controla el tamaño del QR (1 = más pequeño, 40 = más grande)\n",
    "    error_correction=qrcode.constants.ERROR_CORRECT_L,  # Nivel de corrección de errores\n",
    "    box_size=10,  # Tamaño de los cuadros en el QR\n",
    "    border=4,  # Tamaño del borde\n",
    ")\n",
    "\n",
    "# Agregar el enlace al QR\n",
    "qr.add_data(url)\n",
    "qr.make(fit=True)\n",
    "\n",
    "# Crear la imagen del código QR\n",
    "img = qr.make_image(fill_color=\"black\", back_color=\"white\")\n"
   ]
  },
  {
   "cell_type": "markdown",
   "metadata": {},
   "source": [
    "5. Guardar el código QR\n",
    "Guarda la imagen generada como un archivo PNG:"
   ]
  },
  {
   "cell_type": "code",
   "execution_count": 9,
   "metadata": {},
   "outputs": [
    {
     "name": "stdout",
     "output_type": "stream",
     "text": [
      "¡Código QR generado y guardado como 'codigo_qr.png'!\n"
     ]
    }
   ],
   "source": [
    "# Guardar la imagen del código QR\n",
    "# img.save(\"codigo_qr.png\")\n",
    "img.save(\"codigo_qr3.png\")\n",
    "# img.save(\"codigo_qr_spotify.png\")\n",
    "\n",
    "print(\"¡Código QR generado y guardado como 'codigo_qr.png'!\")\n"
   ]
  },
  {
   "cell_type": "markdown",
   "metadata": {},
   "source": [
    "6. Visualización del código QR dentro del cuaderno\n",
    "Puedes visualizar directamente la imagen dentro del Jupyter Notebook:"
   ]
  },
  {
   "cell_type": "code",
   "execution_count": 12,
   "metadata": {},
   "outputs": [
    {
     "data": {
      "image/png": "[encoded data removed]",
      "text/plain": [
       "<IPython.core.display.Image object>"
      ]
     },
     "execution_count": 12,
     "metadata": {},
     "output_type": "execute_result"
    }
   ],
   "source": [
    "from IPython.display import Image\n",
    "\n",
    "# Mostrar la imagen generada\n",
    "Image(filename=\"codigo_qr3.png\")\n"
   ]
  },
  {
   "cell_type": "code",
   "execution_count": null,
   "metadata": {},
   "outputs": [],
   "source": []
  }
 ],
 "metadata": {
  "kernelspec": {
   "display_name": "venv",
   "language": "python",
   "name": "python3"
  },
  "language_info": {
   "codemirror_mode": {
    "name": "ipython",
    "version": 3
   },
   "file_extension": ".py",
   "mimetype": "text/x-python",
   "name": "python",
   "nbconvert_exporter": "python",
   "pygments_lexer": "ipython3",
   "version": "3.11.11"
  }
 },
 "nbformat": 4,
 "nbformat_minor": 2
}
