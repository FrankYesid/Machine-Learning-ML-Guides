{
 "cells": [
  {
   "cell_type": "markdown",
   "metadata": {},
   "source": [
    "# Generación de un Código QR desde Python"
   ]
  },
  {
   "cell_type": "markdown",
   "metadata": {},
   "source": [
    "1. Instalación de la biblioteca necesaria\n",
    "Primero, instala la biblioteca qrcode. Ejecuta el siguiente comando en una celda de terminal o desde el entorno Jupyter:"
   ]
  },
  {
   "cell_type": "code",
   "execution_count": 1,
   "metadata": {},
   "outputs": [
    {
     "name": "stdout",
     "output_type": "stream",
     "text": [
      "Defaulting to user installation because normal site-packages is not writeable\n",
      "Collecting qrcode[pil]\n",
      "  Using cached qrcode-8.2-py3-none-any.whl.metadata (17 kB)\n",
      "Requirement already satisfied: colorama in c:\\users\\frany\\appdata\\local\\packages\\pythonsoftwarefoundation.python.3.12_qbz5n2kfra8p0\\localcache\\local-packages\\python312\\site-packages (from qrcode[pil]) (0.4.6)\n",
      "Collecting pillow>=9.1.0 (from qrcode[pil])\n",
      "  Using cached pillow-11.3.0-cp312-cp312-win_amd64.whl.metadata (9.2 kB)\n",
      "Using cached pillow-11.3.0-cp312-cp312-win_amd64.whl (7.0 MB)\n",
      "Using cached qrcode-8.2-py3-none-any.whl (45 kB)\n",
      "Installing collected packages: qrcode, pillow\n",
      "Successfully installed pillow-11.3.0 qrcode-8.2\n",
      "Note: you may need to restart the kernel to use updated packages.\n"
     ]
    },
    {
     "name": "stderr",
     "output_type": "stream",
     "text": [
      "\n",
      "[notice] A new release of pip is available: 25.0 -> 25.1.1\n",
      "[notice] To update, run: C:\\Users\\frany\\AppData\\Local\\Microsoft\\WindowsApps\\PythonSoftwareFoundation.Python.3.12_qbz5n2kfra8p0\\python.exe -m pip install --upgrade pip\n"
     ]
    }
   ],
   "source": [
    "%pip install qrcode[pil]"
   ]
  },
  {
   "cell_type": "markdown",
   "metadata": {},
   "source": [
    "2. Importación de bibliotecas\n",
    "En una nueva celda, importa las bibliotecas necesarias:"
   ]
  },
  {
   "cell_type": "code",
   "execution_count": 1,
   "metadata": {},
   "outputs": [],
   "source": [
    "import qrcode"
   ]
  },
  {
   "cell_type": "markdown",
   "metadata": {},
   "source": [
    "3. Definición del enlace\n",
    "Define el enlace que quieres codificar en el código QR:"
   ]
  },
  {
   "cell_type": "code",
   "execution_count": null,
   "metadata": {},
   "outputs": [],
   "source": [
    "# Enlace que deseas convertir en un código QR\n",
    "# url = \"https://forms.gle/bVomSWgDmMBaEQ7D6\"\n",
    "# url = \"https://forms.gle/kGiKAnG4bcLLromz7\"\n",
    "# url = 'https://frankyesid.github.io/pagina-presentacion/'\n",
    "# url = 'https://www.popai.pro/share.html?shareKey=adb173c6b37f7178b179dae09b41e920876a98a0e9b05c44593b5674ebd2753d&utm_source=presentationsharepage&inviteCode=IN_6RqgIBjuPBV'\n",
    "# url = 'https://forms.gle/6g7ShX44JxH8byB47'\n",
    "url = 'https://frankyesid.github.io/pagina_deslizamiento/'"
   ]
  },
  {
   "cell_type": "code",
   "execution_count": 2,
   "metadata": {},
   "outputs": [],
   "source": [
    "url = \"https://open.spotify.com/playlist/76145mBbKUknWEOdNjnsvh?si=4338fd8090da480c\""
   ]
  },
  {
   "cell_type": "markdown",
   "metadata": {},
   "source": [
    "4. Configuración y generación del código QR\n",
    "Configura los detalles del código QR y genera la imagen:"
   ]
  },
  {
   "cell_type": "code",
   "execution_count": 9,
   "metadata": {},
   "outputs": [],
   "source": [
    "# Crear el objeto QR con configuraciones\n",
    "qr = qrcode.QRCode(\n",
    "    version=1,  # Controla el tamaño del QR (1 = más pequeño, 40 = más grande)\n",
    "    error_correction=qrcode.constants.ERROR_CORRECT_L,  # Nivel de corrección de errores\n",
    "    box_size=10,  # Tamaño de los cuadros en el QR\n",
    "    border=4,  # Tamaño del borde\n",
    ")\n",
    "\n",
    "# Agregar el enlace al QR\n",
    "qr.add_data(url)\n",
    "qr.make(fit=True)\n",
    "\n",
    "# Crear la imagen del código QR\n",
    "img = qr.make_image(fill_color=\"black\", back_color=\"white\")\n"
   ]
  },
  {
   "cell_type": "markdown",
   "metadata": {},
   "source": [
    "5. Guardar el código QR\n",
    "Guarda la imagen generada como un archivo PNG:"
   ]
  },
  {
   "cell_type": "code",
   "execution_count": 10,
   "metadata": {},
   "outputs": [
    {
     "name": "stdout",
     "output_type": "stream",
     "text": [
      "¡Código QR generado y guardado como 'codigo_qr.png'!\n"
     ]
    }
   ],
   "source": [
    "# Guardar la imagen del código QR\n",
    "# img.save(\"codigo_qr.png\")\n",
    "# img.save(\"codigo_qr4.png\")\n",
    "filename=\"codigo_qr_spotify.png\"\n",
    "img.save(filename)\n",
    "\n",
    "print(\"¡Código QR generado y guardado como 'codigo_qr.png'!\")\n"
   ]
  },
  {
   "cell_type": "markdown",
   "metadata": {},
   "source": [
    "6. Visualización del código QR dentro del cuaderno\n",
    "Puedes visualizar directamente la imagen dentro del Jupyter Notebook:"
   ]
  },
  {
   "cell_type": "code",
   "execution_count": 11,
   "metadata": {},
   "outputs": [
    {
     "data": {
      "image/png": "[encoded data removed]",
      "text/plain": [
       "<IPython.core.display.Image object>"
      ]
     },
     "execution_count": 11,
     "metadata": {},
     "output_type": "execute_result"
    }
   ],
   "source": [
    "from IPython.display import Image\n",
    "\n",
    "# Mostrar la imagen generada\n",
    "Image(filename)\n"
   ]
  },
  {
   "cell_type": "code",
   "execution_count": null,
   "metadata": {},
   "outputs": [],
   "source": []
  }
 ],
 "metadata": {
  "kernelspec": {
   "display_name": "base",
   "language": "python",
   "name": "python3"
  },
  "language_info": {
   "codemirror_mode": {
    "name": "ipython",
    "version": 3
   },
   "file_extension": ".py",
   "mimetype": "text/x-python",
   "name": "python",
   "nbconvert_exporter": "python",
   "pygments_lexer": "ipython3",
   "version": "3.12.4"
  }
 },
 "nbformat": 4,
 "nbformat_minor": 2
}
