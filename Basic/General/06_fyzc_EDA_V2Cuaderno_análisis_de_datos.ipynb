{
  "cells": [
    {
      "cell_type": "markdown",
      "source": [
        "# Analisis de Base de datos de música\n",
        "\n",
        "\n",
        "![](https://c.tenor.com/iczjaEFdW20AAAAC/spotify-music.gif)\n",
        "\n",
        "Detalles del Conjunto de Datos\\\n",
        "Conjunto de Datos de las Canciones más Escuchadas en Spotify\n",
        "Este conjunto de datos contiene información exhaustiva sobre algunas de las canciones más escuchadas en Spotify, enriquecida con información adicional de otras plataformas de streaming populares como Apple Music, Deezer y Shazam. Es ideal para analistas musicales, científicos de datos y entusiastas del aprendizaje automático que estén interesados en explorar tendencias y características de las canciones populares.\n",
        "\n",
        "## Características del Conjunto de Datos\n",
        "\n",
        "### Información Básica de la Canción:\n",
        "- track_name: Nombre de la canción.\n",
        "- artist(s)_name: Nombre del artista o artistas que interpretan la canción.\n",
        "- artist_count: Número de artistas que contribuyen a la canción.\n",
        "- released_year, released_month, released_day: Detalles de la fecha de lanzamiento.\n",
        "\n",
        "### Métricas de Streaming:\n",
        "- in_spotify_playlists: Número de listas de reproducción de Spotify en las que se incluye la canción.\n",
        "- in_spotify_charts: Rango de la canción en las listas de éxitos de Spotify.\n",
        "- streams: Número total de reproducciones en Spotify.\n",
        "- in_apple_playlists, in_apple_charts: Presencia en listas de reproducción y listas de éxitos de Apple Music.\n",
        "- in_deezer_playlists, in_deezer_charts: Presencia en listas de reproducción y listas de éxitos de Deezer.\n",
        "- in_shazam_charts: Rango en las listas de éxitos de Shazam.\n",
        "Atributos Musicales:\n",
        "- bpm: Tiempo por minuto, que representa el ritmo de la canción.\n",
        "- key: Tono de la canción.\n",
        "- mode: Indica si la canción está en modo mayor o menor.\n",
        "- danceability_%: Aptitud de la canción para bailar.\n",
        "- valence_%: Positividad del contenido musical de la canción.\n",
        "- energy_%: Nivel de energía percibida de la canción.\n",
        "- acousticness_%: Presencia de sonido acústico en la canción.\n",
        "- instrumentalness_%: Proporción de contenido instrumental en la pista.\n",
        "- liveness_%: Presencia de elementos de actuación en vivo.\n",
        "- speechiness_%: Cantidad de palabras habladas en la canción.\n",
        "\n",
        "\n",
        "Fuente: Kaggle\n",
        "<div style=\"text-align: left; margin: 20px;\">  \n",
        "  <a href=\"https://www.kaggle.com/datasets/abdulszz/spotify-most-streamed-songs\" target=\"_blank\" style=\"font-size: 24px; font-weight: bold; color: blue;\">Dataset de Spotify</a>  \n",
        "</div>\n"
      ],
      "metadata": {
        "id": "DVwqWRKgCdSp"
      }
    },
    {
      "cell_type": "markdown",
      "source": [
        "##  Autor  \n",
        "**Frank Yesid**  \n",
        "*Creador de este cuaderno interactivo*   \n",
        "*Este cuaderno ha sido diseñado para ayudarte a aprender y aplicar conceptos clave de programación y análisis de datos de manera práctica.* ¡Espero que lo disfrutes! 🎯"
      ],
      "metadata": {
        "id": "WV_qGd4ODCbC"
      }
    },
    {
      "cell_type": "markdown",
      "source": [
        "# Ejecutar la instalación 2 veces para correcta instalación"
      ],
      "metadata": {
        "id": "uMJy-kApDTJm"
      }
    },
    {
      "cell_type": "code",
      "execution_count": null,
      "metadata": {
        "id": "dJSjzpatnSoy",
        "cellView": "form"
      },
      "outputs": [],
      "source": [
        "# @title Instalar librerias a usar - NOTA EJECUTAR 2 VECES SEGUIDAS para correcta instalación\n",
        "# librerías necesarias para el análisis de datos\n",
        "%pip install pandas # librería para manipulación y análisis de datos\n",
        "%pip install numpy==1.26.4 # librería para cálculos numéricos\n",
        "\n",
        "# Librerías para visualización de datos\n",
        "%pip install missingno # librería para visualizar datos faltantes\n",
        "\n",
        "# Librerías para análisis exploratorio de datos\n",
        "%pip install autoviz # herramienta\n",
        "%pip install sweetviz # herramienta para análisis exploratorio de datos\n",
        "%pip install ydata-profiling # herramienta para análisis exploratorio de datos\n",
        "# @title Descargar datos para TextBlob\n",
        "# Descargar los datos necesarios para TextBlob para que AutoViz pueda generar nubes de palabras\n",
        "# El comando !python -m textblob.download_corpora descarga los conjuntos de datos (corpora)\n",
        "# requeridos por TextBlob.\n",
        "!python -m textblob.download_corpora"
      ]
    },
    {
      "cell_type": "markdown",
      "metadata": {
        "id": "sUzUa3ronSoq"
      },
      "source": [
        "# Cuaderno de Análisis Exploratorio de Datos\n",
        "\n",
        "Este cuaderno permite cargar datos desde Google Drive y generar informes exploratorios utilizando múltiples herramientas."
      ]
    },
    {
      "cell_type": "code",
      "metadata": {
        "cellView": "form",
        "id": "3836f782"
      },
      "source": [
        "# @title Importar librerías necesarias\n",
        "import gdown # Librería para descargar archivos desde Google Drive.\n",
        "import pandas as pd # Librería para manipulación y análisis de datos.\n",
        "import numpy as np # Librería para cálculos numéricos y manejo de arrays.\n",
        "\n",
        "import matplotlib.pyplot as plt # Librería para crear visualizaciones estáticas e interactivas.\n",
        "import seaborn as sns # Librería para crear visualizaciones estadísticas atractivas.\n",
        "\n",
        "import missingno as msno # Librería para visualizar datos faltantes.\n",
        "\n",
        "import sweetviz as sv # Herramienta para análisis exploratorio de datos con informes detallados.\n",
        "from ydata_profiling import ProfileReport # Herramienta para generar informes de perfilado de datos.\n"
      ],
      "execution_count": null,
      "outputs": []
    },
    {
      "cell_type": "code",
      "metadata": {
        "cellView": "form",
        "id": "04e34e49"
      },
      "source": [
        "# @title Cargar\n",
        "# Este script descarga un archivo CSV específico desde Google Drive utilizando la librería gdown.\n",
        "\n",
        "# id_archivo es el identificador único del archivo en Google Drive.\n",
        "id_archivo = '1spKQPvUR3PcOgebEXzWDhohxEN0sW2Dg'\n",
        "# Se construye la URL pública para descargar el archivo usando el id_archivo.\n",
        "url = f\"https://drive.google.com/uc?id={id_archivo}\"\n",
        "\n",
        "# output es el nombre con el que se guardará el archivo descargado localmente.\n",
        "output = \"BaseDeDatos.csv\"\n",
        "\n",
        "# La función gdown.download() descarga el archivo de la URL especificada\n",
        "# y lo guarda con el nombre definido en 'output'. quiet=False muestra el progreso.\n",
        "gdown.download(url, output, quiet=False)"
      ],
      "execution_count": null,
      "outputs": []
    },
    {
      "cell_type": "code",
      "metadata": {
        "cellView": "form",
        "id": "IG8Pd_2m3KE_"
      },
      "source": [
        "# @title Cargar y explorar los datos\n",
        "# Este script carga el archivo CSV descargado en un DataFrame de pandas\n",
        "# y realiza una exploración inicial para entender la estructura y contenido de los datos.\n",
        "\n",
        "# Cargar el archivo CSV en un DataFrame de pandas.\n",
        "# pd.read_csv() lee el archivo CSV especificado y crea un DataFrame.\n",
        "df = pd.read_csv(\"BaseDeDatos.csv\")\n"
      ],
      "execution_count": null,
      "outputs": []
    },
    {
      "cell_type": "code",
      "source": [
        "#@title Mostrar las primeras filas del DataFrame.\n",
        "# df.head() muestra las primeras 5 filas del DataFrame, útil para una vista rápida de los datos.\n",
        "print(\"Primeras 5 filas del DataFrame:\")\n",
        "display(df.head())\n"
      ],
      "metadata": {
        "cellView": "form",
        "id": "BnxcfjjzBdUr"
      },
      "execution_count": null,
      "outputs": []
    },
    {
      "cell_type": "code",
      "source": [
        "#@title Información general del DataFrame.\n",
        "# df.info() muestra el índice, tipo de datos de cada columna, y la cantidad de valores no nulos.\n",
        "# Es crucial para identificar columnas con valores faltantes y tipos de datos incorrectos.\n",
        "print(\"\\nInformación del DataFrame:\")\n",
        "display(df.info())"
      ],
      "metadata": {
        "cellView": "form",
        "id": "4zTagshpBgnb"
      },
      "execution_count": null,
      "outputs": []
    },
    {
      "cell_type": "code",
      "source": [
        "#@title Estadísticas descriptivas.\n",
        "# df.describe() genera estadísticas descriptivas de las columnas numéricas,\n",
        "# como media, desviación estándar, mínimo, máximo y cuartiles.\n",
        "print(\"\\nEstadísticas descriptivas:\")\n",
        "display(df.describe())"
      ],
      "metadata": {
        "cellView": "form",
        "id": "RHfBhxvKBl_V"
      },
      "execution_count": null,
      "outputs": []
    },
    {
      "cell_type": "code",
      "source": [
        "#@title Verificar valores faltantes.\n",
        "# df.isnull().sum() cuenta la cantidad de valores nulos por columna.\n",
        "# Esto ayuda a identificar qué columnas tienen datos faltantes y en qué medida.\n",
        "print(\"\\nValores faltantes por columna:\")\n",
        "display(df.isnull().sum())"
      ],
      "metadata": {
        "cellView": "form",
        "id": "JGw63_PkBp1u"
      },
      "execution_count": null,
      "outputs": []
    },
    {
      "cell_type": "code",
      "source": [
        "# @title Visualizar valores faltantes con missingno\n",
        "# Este script utiliza la librería missingno para visualizar la presencia de valores faltantes\n",
        "# en el DataFrame de diferentes maneras.\n",
        "# Visualizar valores faltantes con matriz\n",
        "# msno.matrix() genera una matriz que visualiza la densidad de datos presentes y faltantes.\n",
        "# Cada línea representa una fila del DataFrame.\n",
        "msno.matrix(df)\n",
        "# plt.title() añade un título al gráfico para indicar su propósito.\n",
        "plt.title('Matriz de valores faltantes')\n",
        "# plt.show() muestra el gráfico generado.\n",
        "plt.show()\n",
        "\n",
        "# Visualizar valores faltantes con gráfico de barras\n",
        "# msno.bar() genera un gráfico de barras que muestra el número de valores no nulos por columna.\n",
        "# Es útil para ver la cantidad exacta de datos presentes.\n",
        "msno.bar(df)\n",
        "# plt.title() añade un título al gráfico para indicar su propósito.\n",
        "plt.title('Gráfico de barras de valores faltantes')\n",
        "# plt.show() muestra el gráfico generado.\n",
        "plt.show()\n",
        "\n",
        "# Visualizar el porcentaje total de vacios entra variables sin datos.\n",
        "msno.heatmap(df)\n",
        "plt.title('Mapa de calor de valores faltantes')\n",
        "plt.show()"
      ],
      "metadata": {
        "id": "ml9tvqhjCN_X",
        "cellView": "form"
      },
      "execution_count": null,
      "outputs": []
    },
    {
      "cell_type": "code",
      "source": [
        "df"
      ],
      "metadata": {
        "id": "TRbWxxuCEk0W"
      },
      "execution_count": null,
      "outputs": []
    },
    {
      "cell_type": "code",
      "metadata": {
        "id": "7tGS73lR3iOB"
      },
      "source": [
        "# Inspect unique values in the 'streams' column to identify the problematic entry.\n",
        "unique_streams = df['streams'].unique()\n",
        "print(\"Unique values in 'streams' column:\")\n",
        "print(unique_streams)\n",
        "\n",
        "# Identify the non-numeric value that caused the error.\n",
        "# Based on the error message, the value 'BPM110KeyAModeMajorDanceability53Valence75Energy69Acousticness7Instrumentalness0Liveness17Speechiness3' is the issue.\n",
        "# We need to decide how to handle this entry. For now, we can filter it out to proceed with the conversion for other values.\n",
        "# In a real scenario, we would investigate the source of this data error.\n",
        "df_cleaned = df[df['streams'] != 'BPM110KeyAModeMajorDanceability53Valence75Energy69Acousticness7Instrumentalness0Liveness17Speechiness3'].copy()\n",
        "\n",
        "# Attempt the conversion again on the cleaned DataFrame.\n",
        "# Remove commas and convert the 'streams' column to integer type.\n",
        "df_cleaned['streams'] = df_cleaned['streams'].str.replace(',', '').astype(np.int64)\n",
        "\n",
        "# Now proceed with the rest of the analysis and visualizations using df_cleaned.\n",
        "# Visualizar la matriz de correlación.\n",
        "plt.figure(figsize=(12, 10))\n",
        "sns.heatmap(df_cleaned.corr(numeric_only=True), annot=True, cmap='coolwarm', fmt=\".2f\")\n",
        "plt.title('Matriz de correlación de variables numéricas')\n",
        "plt.show()\n",
        "\n",
        "# Generar gráficos de barras para algunas características.\n",
        "categorical_cols = ['artist_count', 'released_year', 'released_month', 'released_day', 'mode']\n",
        "\n",
        "n_cols = 2\n",
        "n_rows = (len(categorical_cols) + n_cols - 1) // n_cols\n",
        "\n",
        "plt.figure(figsize=(15, n_rows * 5))\n",
        "\n",
        "for i, col in enumerate(categorical_cols):\n",
        "    plt.subplot(n_rows, n_cols, i + 1)\n",
        "    sns.countplot(data=df_cleaned, x=col, palette='viridis')\n",
        "    plt.title(f'Distribución de {col}')\n",
        "    plt.xticks(rotation=45, ha='right')\n",
        "    plt.tight_layout()\n",
        "\n",
        "plt.show()"
      ],
      "execution_count": null,
      "outputs": []
    },
    {
      "cell_type": "markdown",
      "source": [
        "# Sección graficas 1D"
      ],
      "metadata": {
        "id": "qb3os2wSGxpw"
      }
    },
    {
      "cell_type": "code",
      "source": [
        "#@title Evolución de la popularidad en Spotify\n",
        "plt.figure(figsize=(10, 6))\n",
        "df.groupby('released_year')['in_spotify_playlists'].sum().plot(kind='line')\n",
        "plt.title('Evolución de la popularidad en Spotify')\n",
        "plt.xlabel('Año')\n",
        "plt.ylabel('Playlists')\n",
        "plt.show()\n"
      ],
      "metadata": {
        "cellView": "form",
        "id": "W95jozOZGgTB"
      },
      "execution_count": null,
      "outputs": []
    },
    {
      "cell_type": "code",
      "source": [
        "#@title Distribución de la valencia\n",
        "plt.figure(figsize=(10, 6))\n",
        "df['valence_%'].hist()\n",
        "plt.title('Distribución de la valencia')\n",
        "plt.xlabel('Valencia')\n",
        "plt.ylabel('Frecuencia')\n",
        "plt.show()\n"
      ],
      "metadata": {
        "cellView": "form",
        "id": "m5i7K8ObGqeL"
      },
      "execution_count": null,
      "outputs": []
    },
    {
      "cell_type": "markdown",
      "source": [
        "# Sección gráficas 2D"
      ],
      "metadata": {
        "id": "5aNjF8jPG1EW"
      }
    },
    {
      "cell_type": "code",
      "source": [
        "#@title Relación entre la danzabilidad y la energía\n",
        "plt.figure(figsize=(10, 6))\n",
        "plt.scatter(df['danceability_%'], df['energy_%'])\n",
        "plt.title('Relación entre la danzabilidad y la energía')\n",
        "plt.xlabel('danzabilidad')\n",
        "plt.ylabel('Energía')\n",
        "plt.show()"
      ],
      "metadata": {
        "cellView": "form",
        "id": "tpw9MaefG-Yv"
      },
      "execution_count": null,
      "outputs": []
    },
    {
      "cell_type": "code",
      "source": [
        "#@title Relación entre la acústica y la instrumentalidad\n",
        "plt.figure(figsize=(10, 6))\n",
        "plt.scatter(df['acousticness_%'], df['instrumentalness_%'])\n",
        "plt.title('Relación entre la acústica y la instrumentalidad')\n",
        "plt.xlabel('Acústica')\n",
        "plt.ylabel('Instrumentalidad')\n",
        "plt.show()\n"
      ],
      "metadata": {
        "cellView": "form",
        "id": "9l4b1nlsHGC2"
      },
      "execution_count": null,
      "outputs": []
    },
    {
      "cell_type": "code",
      "source": [
        "#@title Relación entre la reproducciones y la Acústica\n",
        "plt.figure(figsize=(40, 6))\n",
        "plt.scatter(df['streams'], df['acousticness_%'])\n",
        "plt.title('Relación entre la reporoducciones y la Acústica')\n",
        "plt.ylabel('Acústica')\n",
        "plt.xlabel('Reproducciones')\n",
        "plt.show()\n"
      ],
      "metadata": {
        "id": "A01gDWlTHJlO"
      },
      "execution_count": null,
      "outputs": []
    },
    {
      "cell_type": "markdown",
      "source": [
        "df['artist(s)_name']: Selecciona la columna 'artist(s)_name' del DataFrame.\n"
      ],
      "metadata": {
        "id": "eGRR2At3HoaS"
      }
    },
    {
      "cell_type": "code",
      "source": [
        "df['artist(s)_name']"
      ],
      "metadata": {
        "id": "WWhLaHW3HrKM"
      },
      "execution_count": null,
      "outputs": []
    },
    {
      "cell_type": "markdown",
      "source": [
        ".tolist(): Convierte los nombres de los artistas en una lista de Python."
      ],
      "metadata": {
        "id": "Apq75fFlKqIx"
      }
    },
    {
      "cell_type": "code",
      "source": [
        "df['artist(s)_name'].tolist()"
      ],
      "metadata": {
        "id": "cppFPwOKIBua"
      },
      "execution_count": null,
      "outputs": []
    },
    {
      "cell_type": "markdown",
      "source": [
        ".value_counts(): Cuenta cuántas veces aparece cada artista en esa columna. Esto te da una serie con los artistas como índice y el número de canciones como valores, ordenados de mayor a menor."
      ],
      "metadata": {
        "id": "dFwkUT8NIEKL"
      }
    },
    {
      "cell_type": "code",
      "source": [
        "df['artist(s)_name'].value_counts()"
      ],
      "metadata": {
        "id": "QJ2qI2PWH2-b"
      },
      "execution_count": null,
      "outputs": []
    },
    {
      "cell_type": "code",
      "source": [
        "Cantidad_de_artistas = 10"
      ],
      "metadata": {
        "id": "cvbGItZ0Kx5P"
      },
      "execution_count": null,
      "outputs": []
    },
    {
      "cell_type": "markdown",
      "source": [
        ".iloc[:Cantidad_de_artistas]: Selecciona las primeras filas de esta serie, según el número especificado en la variable Cantidad_de_artistas. Esto te da los artistas con el mayor número de canciones."
      ],
      "metadata": {
        "id": "odK-qkKgKjwX"
      }
    },
    {
      "cell_type": "code",
      "source": [
        "df['artist(s)_name'].iloc[:Cantidad_de_artistas]"
      ],
      "metadata": {
        "id": "JsoKym_CJQrw"
      },
      "execution_count": null,
      "outputs": []
    },
    {
      "cell_type": "markdown",
      "source": [
        "En resumen, este código toma la columna de nombres de artistas, cuenta la frecuencia de cada artista, selecciona los que tienen las mayores frecuencias (determinadas por Cantidad_de_artistas) y devuelve sus nombres en una lista. Esta lista se utiliza después para filtrar el DataFrame y visualizar los datos de estos artistas en el boxplot.\n"
      ],
      "metadata": {
        "id": "Oet1Zg0vJTxW"
      }
    },
    {
      "cell_type": "code",
      "source": [
        "# @title Grafica de Boxplot composición de la base de datos\n",
        "plt.figure(figsize=(10, 6))\n",
        "# Seleccionar los cantantes con mayor cantidad de canciones\n",
        "nombres_artistas = df['artist(s)_name'].value_counts().iloc[:Cantidad_de_artistas].index.tolist()\n",
        "\n",
        "sns.boxplot(x='artist(s)_name', y='bpm', data=df[df['artist(s)_name'].isin(nombres_artistas)])\n",
        "plt.title('Boxplot de Artistas vs. bpm')\n",
        "plt.xlabel('Artistas')\n",
        "plt.ylabel('bpm')\n",
        "plt.xticks(rotation=90)\n",
        "plt.show()\n"
      ],
      "metadata": {
        "id": "LPHHGKMeHNER"
      },
      "execution_count": null,
      "outputs": []
    },
    {
      "cell_type": "code",
      "metadata": {
        "id": "RXIImavB3wkM",
        "cellView": "form"
      },
      "source": [
        "# @title Generar informe con Sweetviz\n",
        "# Sweetviz es una librería para generar informes de visualización de datos de forma rápida.\n",
        "# Proporciona un análisis detallado con gráficos interactivos para cada columna.\n",
        "\n",
        "# Convert 'in_shazam_charts' to string type to handle mixed data types, as suggested by the error.\n",
        "df['in_shazam_charts'] = df['in_shazam_charts'].astype(str)\n",
        "\n",
        "# Generar informe con Sweetviz\n",
        "# sv.analyze(df) analiza el DataFrame y prepara el informe.\n",
        "informe = sv.analyze(df)\n",
        "# informe.show_html() genera el informe en formato HTML y lo guarda en un archivo.\n",
        "# El informe se guardará como 'informe_sweetviz.html' en el directorio actual del cuaderno.\n",
        "informe.show_html('informe_sweetviz.html')\n",
        "print(\"Informe de Sweetviz generado como 'informe_sweetviz.html'. Puedes descargarlo o verlo en la pestaña de Archivos.\")"
      ],
      "execution_count": null,
      "outputs": []
    },
    {
      "cell_type": "code",
      "source": [
        "#@title La función informe.show_notebook muestra el reporte de análisis exploratorio de datos (EDA) en un notebook Jupyter, con el siguiente formato:\n",
        "\n",
        "# layout='vertical': muestra los datos en una columna vertical\n",
        "# w=1400 y h=500: ajusta el ancho y alto del reporte a 1400x500 píxeles\n",
        "# scale=0.9: muestra el reporte a un 90% de su tamaño original\n",
        "informe.show_notebook(layout='vertical', w=1400, h=500, scale=1)"
      ],
      "metadata": {
        "cellView": "form",
        "id": "XzLpjUQvEjGa"
      },
      "execution_count": null,
      "outputs": []
    },
    {
      "cell_type": "code",
      "metadata": {
        "id": "d4a2c500",
        "cellView": "form"
      },
      "source": [
        "# @title Generar informe con y-data-profiling\n",
        "# ydata-profiling es otra herramienta poderosa para generar informes EDA detallados.\n",
        "# Proporciona un resumen completo de las variables, interacciones y valores faltantes.\n",
        "\n",
        "# Generar informe con ydata-profiling\n",
        "# ProfileReport() crea el objeto de informe, tomando el DataFrame y un título.\n",
        "perfil = ProfileReport(df, title=\"Informe de Análisis Exploratorio de Datos\")\n",
        "# perfil.to_file() guarda el informe en formato HTML en un archivo.\n",
        "# El informe se guardará como 'informe_ydata_profiling.html' en el directorio actual.\n",
        "perfil.to_file(\"informe_ydata_profiling.html\")\n",
        "print(\"Informe de ydata-profiling generado como 'informe_ydata_profiling.html'. Puedes descargarlo o verlo en la pestaña de Archivos.\")"
      ],
      "execution_count": null,
      "outputs": []
    },
    {
      "cell_type": "code",
      "source": [
        "perfil"
      ],
      "metadata": {
        "id": "n2miaQ2-F4Y1"
      },
      "execution_count": null,
      "outputs": []
    },
    {
      "cell_type": "code",
      "metadata": {
        "id": "38bdd4e3",
        "cellView": "form"
      },
      "source": [
        "# @title Generar informe con AutoViz\n",
        "# AutoViz es una librería que automatiza la visualización de datos para un EDA rápido.\n",
        "# Genera automáticamente varios tipos de gráficos basados en el análisis del DataFrame.\n",
        "\n",
        "# Importar la clase AutoViz_Class necesaria para usar AutoViz\n",
        "from autoviz.AutoViz_Class import AutoViz_Class\n",
        "\n",
        "# Generar informe con AutoViz\n",
        "# AutoViz_Class() crea una instancia de la clase AutoViz.\n",
        "AV = AutoViz_Class()\n",
        "# AV.AutoViz() toma el nombre del archivo o DataFrame y genera las visualizaciones.\n",
        "# Las visualizaciones se guardan automáticamente como archivos de imagen (PNG, JPG, etc.)\n",
        "# en el directorio actual o un subdirectorio 'AutoViz_plots'.\n",
        "dft = AV.AutoViz(\"BaseDeDatos.csv\")\n",
        "print(\"Informe de AutoViz generado. Busca los archivos de imagen en la pestaña de Archivos, posiblemente en una carpeta llamada 'AutoViz_plots'.\")"
      ],
      "execution_count": null,
      "outputs": []
    },
    {
      "cell_type": "code",
      "source": [
        "dft"
      ],
      "metadata": {
        "id": "UwKjH-YH5z8w"
      },
      "execution_count": null,
      "outputs": []
    }
  ],
  "metadata": {
    "colab": {
      "provenance": [],
      "private_outputs": true
    },
    "kernelspec": {
      "display_name": "Python 3",
      "name": "python3"
    },
    "language_info": {
      "codemirror_mode": {
        "name": "ipython",
        "version": 3
      },
      "file_extension": ".py",
      "mimetype": "text/x-python",
      "name": "python",
      "nbconvert_exporter": "python",
      "pygments_lexer": "ipython3",
      "version": "3.9.12"
    }
  },
  "nbformat": 4,
  "nbformat_minor": 0
}